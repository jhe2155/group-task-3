{
 "cells": [
  {
   "cell_type": "code",
   "execution_count": 17,
   "id": "5f438cc2",
   "metadata": {},
   "outputs": [
    {
     "data": {
      "text/html": [
       "\n",
       "<div id=\"altair-viz-a083b5f5e5f9416f8d8a08020cd4acd5\"></div>\n",
       "<script type=\"text/javascript\">\n",
       "  var VEGA_DEBUG = (typeof VEGA_DEBUG == \"undefined\") ? {} : VEGA_DEBUG;\n",
       "  (function(spec, embedOpt){\n",
       "    let outputDiv = document.currentScript.previousElementSibling;\n",
       "    if (outputDiv.id !== \"altair-viz-a083b5f5e5f9416f8d8a08020cd4acd5\") {\n",
       "      outputDiv = document.getElementById(\"altair-viz-a083b5f5e5f9416f8d8a08020cd4acd5\");\n",
       "    }\n",
       "    const paths = {\n",
       "      \"vega\": \"https://cdn.jsdelivr.net/npm//vega@5?noext\",\n",
       "      \"vega-lib\": \"https://cdn.jsdelivr.net/npm//vega-lib?noext\",\n",
       "      \"vega-lite\": \"https://cdn.jsdelivr.net/npm//vega-lite@4.17.0?noext\",\n",
       "      \"vega-embed\": \"https://cdn.jsdelivr.net/npm//vega-embed@6?noext\",\n",
       "    };\n",
       "\n",
       "    function maybeLoadScript(lib, version) {\n",
       "      var key = `${lib.replace(\"-\", \"\")}_version`;\n",
       "      return (VEGA_DEBUG[key] == version) ?\n",
       "        Promise.resolve(paths[lib]) :\n",
       "        new Promise(function(resolve, reject) {\n",
       "          var s = document.createElement('script');\n",
       "          document.getElementsByTagName(\"head\")[0].appendChild(s);\n",
       "          s.async = true;\n",
       "          s.onload = () => {\n",
       "            VEGA_DEBUG[key] = version;\n",
       "            return resolve(paths[lib]);\n",
       "          };\n",
       "          s.onerror = () => reject(`Error loading script: ${paths[lib]}`);\n",
       "          s.src = paths[lib];\n",
       "        });\n",
       "    }\n",
       "\n",
       "    function showError(err) {\n",
       "      outputDiv.innerHTML = `<div class=\"error\" style=\"color:red;\">${err}</div>`;\n",
       "      throw err;\n",
       "    }\n",
       "\n",
       "    function displayChart(vegaEmbed) {\n",
       "      vegaEmbed(outputDiv, spec, embedOpt)\n",
       "        .catch(err => showError(`Javascript Error: ${err.message}<br>This usually means there's a typo in your chart specification. See the javascript console for the full traceback.`));\n",
       "    }\n",
       "\n",
       "    if(typeof define === \"function\" && define.amd) {\n",
       "      requirejs.config({paths});\n",
       "      require([\"vega-embed\"], displayChart, err => showError(`Error loading script: ${err.message}`));\n",
       "    } else {\n",
       "      maybeLoadScript(\"vega\", \"5\")\n",
       "        .then(() => maybeLoadScript(\"vega-lite\", \"4.17.0\"))\n",
       "        .then(() => maybeLoadScript(\"vega-embed\", \"6\"))\n",
       "        .catch(showError)\n",
       "        .then(() => displayChart(vegaEmbed));\n",
       "    }\n",
       "  })({\"config\": {\"view\": {\"continuousWidth\": 400, \"continuousHeight\": 300}}, \"data\": {\"url\": \"https://cdn.jsdelivr.net/npm/vega-datasets@v1.29.0/data/us-10m.json\", \"format\": {\"feature\": \"states\", \"type\": \"topojson\"}}, \"mark\": \"geoshape\", \"encoding\": {\"color\": {\"field\": \"Automobiles\", \"title\": \"Number of Registered Automobiles\", \"type\": \"quantitative\"}, \"tooltip\": [{\"field\": \"State\", \"type\": \"ordinal\"}, {\"field\": \"Automobiles\", \"type\": \"quantitative\"}]}, \"height\": 300, \"projection\": {\"type\": \"albersUsa\"}, \"selection\": {\"selector015\": {\"type\": \"single\", \"on\": \"mouseover\", \"nearest\": true, \"fields\": [\"x\", \"y\"]}}, \"transform\": [{\"lookup\": \"id\", \"from\": {\"data\": {\"name\": \"data-4fbb5c498379dfb970a53f51cac9cbe4\"}, \"key\": \"id\", \"fields\": [\"Automobiles\"]}}], \"width\": 700, \"$schema\": \"https://vega.github.io/schema/vega-lite/v4.17.0.json\", \"datasets\": {\"data-4fbb5c498379dfb970a53f51cac9cbe4\": [{\"State\": \"Alabama\", \"Automobiles\": 5056073, \"id\": 1}, {\"State\": \"Alaska\", \"Automobiles\": 804505, \"id\": 2}, {\"State\": \"Arizona\", \"Automobiles\": 5964434, \"id\": 4}, {\"State\": \"Arkansas\", \"Automobiles\": 2833697, \"id\": 5}, {\"State\": \"California\", \"Automobiles\": 30795141, \"id\": 6}, {\"State\": \"Colorado\", \"Automobiles\": 5259960, \"id\": 8}, {\"State\": \"Connecticut\", \"Automobiles\": 2826350, \"id\": 9}, {\"State\": \"Delaware\", \"Automobiles\": 970733, \"id\": 10}, {\"State\": \"District of Columbia\", \"Automobiles\": 346016, \"id\": 11}, {\"State\": \"Florida\", \"Automobiles\": 16959269, \"id\": 12}, {\"State\": \"Georgia\", \"Automobiles\": 8442325, \"id\": 13}, {\"State\": \"Hawaii\", \"Automobiles\": 1259541, \"id\": 15}, {\"State\": \"Idaho\", \"Automobiles\": 1835903, \"id\": 16}, {\"State\": \"Illinois\", \"Automobiles\": 10890760, \"id\": 17}, {\"State\": \"Indiana\", \"Automobiles\": 6170034, \"id\": 18}, {\"State\": \"Iowa\", \"Automobiles\": 3750077, \"id\": 19}, {\"State\": \"Kansas\", \"Automobiles\": 2717873, \"id\": 20}, {\"State\": \"Kentucky\", \"Automobiles\": 4293205, \"id\": 21}, {\"State\": \"Louisiana\", \"Automobiles\": 3906812, \"id\": 22}, {\"State\": \"Maine\", \"Automobiles\": 1094388, \"id\": 23}, {\"State\": \"Maryland\", \"Automobiles\": 4357598, \"id\": 24}, {\"State\": \"Massachusetts\", \"Automobiles\": 5065221, \"id\": 25}, {\"State\": \"Michigan\", \"Automobiles\": 8517065, \"id\": 26}, {\"State\": \"Minnesota\", \"Automobiles\": 5682653, \"id\": 27}, {\"State\": \"Mississippi\", \"Automobiles\": 2057476, \"id\": 28}, {\"State\": \"Missouri\", \"Automobiles\": 5568736, \"id\": 29}, {\"State\": \"Montana\", \"Automobiles\": 1813854, \"id\": 30}, {\"State\": \"Nebraska\", \"Automobiles\": 1965105, \"id\": 31}, {\"State\": \"Nevada\", \"Automobiles\": 2455442, \"id\": 32}, {\"State\": \"New Hampshire\", \"Automobiles\": 1319117, \"id\": 33}, {\"State\": \"New Jersey\", \"Automobiles\": 6057711, \"id\": 34}, {\"State\": \"New Mexico\", \"Automobiles\": 1740002, \"id\": 35}, {\"State\": \"New York\", \"Automobiles\": 10857455, \"id\": 36}, {\"State\": \"North Carolina\", \"Automobiles\": 8070717, \"id\": 37}, {\"State\": \"North Dakota\", \"Automobiles\": 1056758, \"id\": 38}, {\"State\": \"Ohio\", \"Automobiles\": 10809247, \"id\": 39}, {\"State\": \"Oklahoma\", \"Automobiles\": 3744178, \"id\": 40}, {\"State\": \"Oregon\", \"Automobiles\": 4103451, \"id\": 41}, {\"State\": \"Pennsylvania\", \"Automobiles\": 10689206, \"id\": 42}, {\"State\": \"Rhode Island\", \"Automobiles\": 872814, \"id\": 44}, {\"State\": \"South Carolina\", \"Automobiles\": 4404100, \"id\": 45}, {\"State\": \"South Dakota\", \"Automobiles\": 1258356, \"id\": 46}, {\"State\": \"Tennessee\", \"Automobiles\": 5800489, \"id\": 47}, {\"State\": \"Texas\", \"Automobiles\": 22130765, \"id\": 48}, {\"State\": \"Utah\", \"Automobiles\": 2355773, \"id\": 49}, {\"State\": \"Vermont\", \"Automobiles\": 621608, \"id\": 50}, {\"State\": \"Virginia\", \"Automobiles\": 7514484, \"id\": 51}, {\"State\": \"Washington\", \"Automobiles\": 7256196, \"id\": 53}, {\"State\": \"West Virginia\", \"Automobiles\": 1691237, \"id\": 54}, {\"State\": \"Wisconsin\", \"Automobiles\": 5596635, \"id\": 55}, {\"State\": \"Wyoming\", \"Automobiles\": 819257, \"id\": 56}]}}, {\"mode\": \"vega-lite\"});\n",
       "</script>"
      ],
      "text/plain": [
       "alt.Chart(...)"
      ]
     },
     "execution_count": 17,
     "metadata": {},
     "output_type": "execute_result"
    }
   ],
   "source": [
    "import altair as alt\n",
    "from vega_datasets import data\n",
    "import pandas as pd \n",
    "\n",
    "states = alt.topo_feature(data.us_10m.url, 'states')\n",
    "source = pd.read_csv(\"2017automobile_registration_by_state.csv\")\n",
    "source.head()\n",
    "\n",
    "source['Automobiles'] = source['Automobiles'].astype(int)\n",
    "\n",
    "slider = alt.binding_range(min=2006, max=2012, step=1)\n",
    "select_year = alt.selection_single(name=\"year\", fields=['year'],\n",
    "                                   bind=slider, init={'year': 2006})\n",
    "\n",
    "\n",
    "\n",
    "tooltip = ['State:O','Automobiles:Q']\n",
    "alt.Chart(states).mark_geoshape().encode(\n",
    "    alt.Color('Automobiles:Q',title='Number of Registered Automobiles'),\n",
    "#     tooltip = tooltip \n",
    ").transform_lookup(\n",
    "    lookup='id',\n",
    "    from_=alt.LookupData(source, 'id', ['Automobiles'])\n",
    ").properties(\n",
    "    width=700,\n",
    "    height=300\n",
    ").project(\n",
    "    type='albersUsa'\n",
    ").add_selection(\n",
    "        hover\n",
    ")\n",
    "\n",
    "\n"
   ]
  },
  {
   "cell_type": "code",
   "execution_count": null,
   "id": "aca295fd",
   "metadata": {},
   "outputs": [],
   "source": []
  },
  {
   "cell_type": "code",
   "execution_count": null,
   "id": "1befb8e1",
   "metadata": {},
   "outputs": [],
   "source": []
  },
  {
   "cell_type": "code",
   "execution_count": null,
   "id": "c0b1d9b5",
   "metadata": {},
   "outputs": [],
   "source": []
  },
  {
   "cell_type": "code",
   "execution_count": null,
   "id": "ff0d9011",
   "metadata": {},
   "outputs": [],
   "source": []
  },
  {
   "cell_type": "code",
   "execution_count": null,
   "id": "23d3dd5e",
   "metadata": {},
   "outputs": [],
   "source": []
  },
  {
   "cell_type": "code",
   "execution_count": null,
   "id": "1475d332",
   "metadata": {},
   "outputs": [],
   "source": []
  },
  {
   "cell_type": "code",
   "execution_count": null,
   "id": "adbd3ee0",
   "metadata": {},
   "outputs": [],
   "source": []
  },
  {
   "cell_type": "code",
   "execution_count": null,
   "id": "20d2055f",
   "metadata": {},
   "outputs": [],
   "source": []
  }
 ],
 "metadata": {
  "kernelspec": {
   "display_name": "Python 3",
   "language": "python",
   "name": "python3"
  },
  "language_info": {
   "codemirror_mode": {
    "name": "ipython",
    "version": 3
   },
   "file_extension": ".py",
   "mimetype": "text/x-python",
   "name": "python",
   "nbconvert_exporter": "python",
   "pygments_lexer": "ipython3",
   "version": "3.7.11"
  }
 },
 "nbformat": 4,
 "nbformat_minor": 5
}
